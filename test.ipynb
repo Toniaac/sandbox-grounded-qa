{
 "cells": [
  {
   "cell_type": "code",
   "execution_count": 1,
   "metadata": {},
   "outputs": [],
   "source": [
    "serp_api = '2db975c7f72d37a545504fb166033d19ccbadcf5eeaf17b56882f9a81d0dafe7'\n",
    "cohere_api = '6rIWhaa4vGVQKRnSJ9ClSKkgsxQp8EabiXBLH2zl'\n",
    "elsevier_apikey = 'ce04ffa20c7ee4560e4ffd4761bbe157'"
   ]
  },
  {
   "cell_type": "code",
   "execution_count": null,
   "metadata": {},
   "outputs": [],
   "source": [
    "# python cli_demo.py --cohere_api_key 6rIWhaa4vGVQKRnSJ9ClSKkgsxQp8EabiXBLH2zl --serp_api_key 2db975c7f72d37a545504fb166033d19ccbadcf5eeaf17b56882f9a81d0dafe7"
   ]
  },
  {
   "cell_type": "code",
   "execution_count": 2,
   "metadata": {},
   "outputs": [],
   "source": [
    "import requests\n",
    "from bs4 import BeautifulSoup\n",
    "import bs4\n",
    "import time\n",
    "import lxml\n",
    "import cohere\n",
    "from cohere.classify import Example \n",
    "import pandas as pd\n",
    "from unidecode import unidecode\n",
    "import json\n",
    "from qa.search import embedding_search, get_results_paragraphs_multi_process, get_results_paragraphs_from_paper"
   ]
  },
  {
   "cell_type": "code",
   "execution_count": 7,
   "metadata": {},
   "outputs": [],
   "source": [
    "class paper_parser():\n",
    "    def __init__(self, query, apikey, count, start, sort, view, timeout):\n",
    "        self.query = query\n",
    "        self.apikey = apikey\n",
    "        self.count = count\n",
    "        self.start = start\n",
    "        self.sort = sort\n",
    "        self.view = view\n",
    "        self.timeout = timeout\n",
    "        self.dic = self.search_for_papers(self.query, self.apikey, self.count, self.start, self.sort, self.view)\n",
    "        self.piis = list(self.dic.values())\n",
    "        self.paragraphs = self.get_all_paragraphs()\n",
    "        self.titles = self.get_all_titles()\n",
    "        self.authors = self.get_all_1st_authors()\n",
    "        self.organizations = self.get_all_organizations()\n",
    "    def search_for_papers(self, query, apikey, count, start, sort, view):\n",
    "        url = 'https://api.elsevier.com/content/search/sciencedirect?'\n",
    "        headers = {'X-ELS-APIKey': apikey, 'Accept': 'application/json'}\n",
    "        params = {'query': query, 'count': count, 'start': start, 'sort': sort, 'view': view}\n",
    "        r = requests.get(url, headers=headers, params=params)\n",
    "        json_resp = json.loads(r.text)\n",
    "        titles, piis, authors = [], [], []\n",
    "        dic = {}\n",
    "        for paper in json_resp['search-results']['entry']:\n",
    "            titles.append(paper['dc:title'])\n",
    "            piis.append(paper['pii'])\n",
    "            dic[paper['dc:title']] = paper['pii']\n",
    "        return dic\n",
    "    def get_paragraphs(self, pii):\n",
    "        url = f'https://api.elsevier.com/content/article/pii/{pii}'\n",
    "        response = requests.get(url, headers={\"X-ELS-APIKey\":self.apikey, \"content-type\": \"text/xml;charset=UTF-8\"}, timeout = self.timeout)\n",
    "        soup = BeautifulSoup(response.content, \"xml\")\n",
    "        text =[unidecode(''.join(s.findAll(text=True)).replace('\\n', '')) for s in soup.find_all('ce:para')]\n",
    "        return text\n",
    "    def get_all_1st_authors(self):\n",
    "        authors = []\n",
    "        for pii in self.piis:\n",
    "            url = f'https://api.elsevier.com/content/article/pii/{pii}'\n",
    "            response = requests.get(url, headers={\"X-ELS-APIKey\":self.apikey, \"content-type\": \"text/xml;charset=UTF-8\"}, timeout = self.timeout)\n",
    "            soup = BeautifulSoup(response.content, \"xml\")\n",
    "            first_name = [''.join(s.findAll(text=True)) for s in soup.find_all('ce:given-name')][0]\n",
    "            last_name = [''.join(s.findAll(text=True)) for s in soup.find_all('ce:surname')][0]\n",
    "            name = first_name + ' ' + last_name\n",
    "            authors.append(name)\n",
    "        return authors\n",
    "    def get_all_organizations(self):\n",
    "        organizations = []\n",
    "        for pii in self.piis:\n",
    "            url = f'https://api.elsevier.com/content/article/pii/{pii}'\n",
    "            response = requests.get(url, headers={\"X-ELS-APIKey\":self.apikey, \"content-type\": \"text/xml;charset=UTF-8\"}, timeout = self.timeout)\n",
    "            soup = BeautifulSoup(response.content, \"xml\")            \n",
    "            organization = [''.join(s.findAll(text=True)) for s in soup.find_all('sa:organization')]\n",
    "            # join all organizations into one string and split by comma\n",
    "            organization = ', '.join(organization)\n",
    "            organizations.append(organization)\n",
    "        return organizations\n",
    "    def get_all_paragraphs(self):\n",
    "        paragraphs = []\n",
    "        for pii in self.piis:\n",
    "            paragraphs.append(self.get_paragraphs(pii))\n",
    "        return paragraphs\n",
    "    def get_all_titles(self):\n",
    "        return list(self.dic.keys())\n",
    "    def get_text(self, pii, apikey, timeout):\n",
    "        url = f'https://api.elsevier.com/content/article/pii/{pii}'\n",
    "        response = requests.get(url, headers={\"X-ELS-APIKey\":apikey, \"content-type\": \"text/xml;charset=UTF-8\"}, timeout = timeout)\n",
    "        soup = BeautifulSoup(response.content, \"xml\")\n",
    "        return soup"
   ]
  },
  {
   "cell_type": "code",
   "execution_count": 13,
   "metadata": {},
   "outputs": [],
   "source": [
    "pp = paper_parser('synthesis, Polysulfone, membrane, phase separation, non-solvent, induced', elsevier_apikey, 1, 0, 'relevance', 'COMPLETE', 60)"
   ]
  },
  {
   "cell_type": "code",
   "execution_count": 14,
   "metadata": {},
   "outputs": [],
   "source": [
    "example_papers = pp.get_all_paragraphs()\n",
    "example_titles = pp.get_all_titles()\n",
    "example_authors = pp.get_all_1st_authors()\n",
    "example_organizations = pp.get_all_organizations()"
   ]
  },
  {
   "cell_type": "code",
   "execution_count": 10,
   "metadata": {},
   "outputs": [
    {
     "data": {
      "text/plain": [
       "['S1359645421009137']"
      ]
     },
     "execution_count": 10,
     "metadata": {},
     "output_type": "execute_result"
    }
   ],
   "source": [
    "pp.piis"
   ]
  },
  {
   "cell_type": "code",
   "execution_count": 11,
   "metadata": {},
   "outputs": [],
   "source": [
    "# save to a csv file\n",
    "df = pd.DataFrame(example_papers[0], columns = ['paragraphs'])\n",
    "df['titles'] = example_titles[0]\n",
    "df['authors'] = example_authors[0]\n",
    "df['organizations'] = example_organizations[0]\n",
    "df['piis'] = pp.piis[0]\n",
    "# df.to_csv('S1359645421009137.csv')"
   ]
  },
  {
   "cell_type": "code",
   "execution_count": 3,
   "metadata": {},
   "outputs": [],
   "source": [
    "def get_relevant_paper_from_question(question):\n",
    "    co = cohere.Client('6rIWhaa4vGVQKRnSJ9ClSKkgsxQp8EabiXBLH2zl') \n",
    "    response = co.generate( \n",
    "        model='command-xlarge-20221108', \n",
    "        prompt='Extract the key words and seperate them by commas from the following question:\\n\\nQuestion: '+ question +'\\n\\nKey words:', \n",
    "        max_tokens=50, \n",
    "        temperature=0.6, \n",
    "        k=0, \n",
    "        p=1, \n",
    "        frequency_penalty=0, \n",
    "        presence_penalty=0, \n",
    "        stop_sequences=[\"--\"], \n",
    "        return_likelihoods='NONE') \n",
    "    key_words = response.generations[0].text\n",
    "    print(key_words)\n",
    "    pp = paper_parser(key_words, elsevier_apikey, 1, 0, 'relevance', 'COMPLETE', 60)\n",
    "    paragraphs = []\n",
    "    paragraph_sources = []\n",
    "    for i in range(len(pp.get_all_paragraphs()[0])):\n",
    "        paragraphs += pp.get_all_paragraphs()[0][i]\n",
    "        paragraph_sources += [pp.piis(0)]  * len(url_paragraphs[i])\n",
    "    return paragraphs, paragraph_sources"
   ]
  },
  {
   "cell_type": "code",
   "execution_count": 4,
   "metadata": {},
   "outputs": [
    {
     "name": "stdout",
     "output_type": "stream",
     "text": [
      "\n",
      "membrane,NIPS,synthesize\n"
     ]
    },
    {
     "ename": "NameError",
     "evalue": "name 'paper_parser' is not defined",
     "output_type": "error",
     "traceback": [
      "\u001b[1;31m---------------------------------------------------------------------------\u001b[0m",
      "\u001b[1;31mNameError\u001b[0m                                 Traceback (most recent call last)",
      "\u001b[1;32mc:\\Users\\wang9\\Documents\\GitHub\\sandbox-grounded-qa\\test.ipynb Cell 10\u001b[0m in \u001b[0;36m<cell line: 1>\u001b[1;34m()\u001b[0m\n\u001b[1;32m----> <a href='vscode-notebook-cell:/c%3A/Users/wang9/Documents/GitHub/sandbox-grounded-qa/test.ipynb#X12sZmlsZQ%3D%3D?line=0'>1</a>\u001b[0m get_relevant_paper_from_question(\u001b[39m'\u001b[39;49m\u001b[39mWhat is the best way to synthesize a membrane with NIPS?\u001b[39;49m\u001b[39m'\u001b[39;49m)\n",
      "\u001b[1;32mc:\\Users\\wang9\\Documents\\GitHub\\sandbox-grounded-qa\\test.ipynb Cell 10\u001b[0m in \u001b[0;36mget_relevant_paper_from_question\u001b[1;34m(question)\u001b[0m\n\u001b[0;32m     <a href='vscode-notebook-cell:/c%3A/Users/wang9/Documents/GitHub/sandbox-grounded-qa/test.ipynb#X12sZmlsZQ%3D%3D?line=13'>14</a>\u001b[0m key_words \u001b[39m=\u001b[39m response\u001b[39m.\u001b[39mgenerations[\u001b[39m0\u001b[39m]\u001b[39m.\u001b[39mtext\n\u001b[0;32m     <a href='vscode-notebook-cell:/c%3A/Users/wang9/Documents/GitHub/sandbox-grounded-qa/test.ipynb#X12sZmlsZQ%3D%3D?line=14'>15</a>\u001b[0m \u001b[39mprint\u001b[39m(key_words)\n\u001b[1;32m---> <a href='vscode-notebook-cell:/c%3A/Users/wang9/Documents/GitHub/sandbox-grounded-qa/test.ipynb#X12sZmlsZQ%3D%3D?line=15'>16</a>\u001b[0m pp \u001b[39m=\u001b[39m paper_parser(key_words, elsevier_apikey, \u001b[39m1\u001b[39m, \u001b[39m0\u001b[39m, \u001b[39m'\u001b[39m\u001b[39mrelevance\u001b[39m\u001b[39m'\u001b[39m, \u001b[39m'\u001b[39m\u001b[39mCOMPLETE\u001b[39m\u001b[39m'\u001b[39m, \u001b[39m60\u001b[39m)\n\u001b[0;32m     <a href='vscode-notebook-cell:/c%3A/Users/wang9/Documents/GitHub/sandbox-grounded-qa/test.ipynb#X12sZmlsZQ%3D%3D?line=16'>17</a>\u001b[0m paragraphs \u001b[39m=\u001b[39m []\n\u001b[0;32m     <a href='vscode-notebook-cell:/c%3A/Users/wang9/Documents/GitHub/sandbox-grounded-qa/test.ipynb#X12sZmlsZQ%3D%3D?line=17'>18</a>\u001b[0m paragraph_sources \u001b[39m=\u001b[39m []\n",
      "\u001b[1;31mNameError\u001b[0m: name 'paper_parser' is not defined"
     ]
    }
   ],
   "source": [
    "get_relevant_paper_from_question('What is the best way to synthesize a membrane with NIPS?')"
   ]
  },
  {
   "cell_type": "code",
   "execution_count": 5,
   "metadata": {},
   "outputs": [],
   "source": [
    "df = pd.read_csv('S1359645421009137'+'.csv')"
   ]
  },
  {
   "cell_type": "code",
   "execution_count": 4,
   "metadata": {},
   "outputs": [
    {
     "data": {
      "text/plain": [
       "['The demand for hydrogen (H) energy is rapidly growing in the current society [1-3]. However, the wide application of H energy faces great challenges in the storage and transportation of H gas for that the presence of mobile H atoms in metals could render serious deterioration in the mechanical properties of metals, especially ductility and durability, inducing the so-call hydrogen embrittlement (HE). The mobile H atoms are prone to accumulate at crystal defects i.e., grain boundaries [4,5], interfaces [6-8], and micro voids [9,10], inducing decohesion or stress concentration, and consequently crack initiation and propagation. One common strategy to increase the HE resistance of metals is to suppress severe H accumulation at defects by slowing down H diffusion through the dispersion of irreversible traps like precipitates [11] or reversible traps like grain boundaries [12] and dislocation walls [13]. However, to trap enough diffusive H, the defects should have sufficient density and proper dispersion in the matrix. Otherwise, H atoms would accumulate at the defects and cause embrittlement. Therefore, novel effective methodologies for trapping diffusive H are in demand.',\n",
       " 'High entropy alloys (HEAs) have attracted intensive interest due to their unique properties such as good ductility [14], high thermal stability [15,16], corrosion resistance [17,18], and excellent low-temperature mechanical properties [19]. Particularly, certain HEAs, such as the prototype Cantor alloy (FeCoNiCrMn) [20-24], have been found to be much less susceptible to HE than commercially used Ni-based alloys and stainless steel, even at a higher level of H charging. The multiple principal components in HEAs lead to a vast compositional space for designing alloys with strong HE resistance. However, an effective way for designing HE resistant HEAs still requires an in-depth understanding of the underlying mechanisms of HE resistance in HEAs. It has been proposed that the highly fluctuated local chemical environment and the distorted lattice of HEAs result in a wide distribution of H diffusion energy barriers. The peaks/valleys in the potential energy landscape create numerous H traps [25] in the HEA lattice. To develop an effective design strategy for HE resistant HEAs, it is necessary to identify how the local chemical environment is correlated with the local H trapping energy and clarify how the chemical composition influences the diffusion coefficient.',\n",
       " 'Data-driven material design is an emerging field of research that searches for the optimal material with great efficiency by avoiding the traditional trial-error material development process [26-29]. Here we propose a data-driven and machine learning (ML) assisted strategy to design HE resistant non-equimolar FeCoNiCrMn HEAs. Our approach is to calculate the H solution energies using density functional theory (DFT) at critical sites of the HEA lattice, followed by ML algorithms to correlate the local chemical environment with H solution energies. H diffusion coefficients are subsequently calculated from H diffusion barriers by kinetic Monte Carlo (kMC) simulations [10,30]. Whale optimization algorithms (WOA) [31] then allow us to explore HEA atomic structures with low H diffusion coefficients. Finally, using a polynomial model, we construct a mapping between the H diffusion coefficient and the chemical composition of the HEA. The model suggests that we can regulate the H diffusion coefficient of the HEA by tuning its chemical composition. In particular, HEAs with low H diffusion coefficients are predicted to have high Co and Mn content, while those with high H diffusion coefficients have high Fe and Ni content. The quantitative model linking the H diffusion coefficient with the chemical composition of HEA is expected to guide the design of high-performance HEAs with low H diffusion coefficients and strong resistance to HE.',\n",
       " 'In face-centered cubic (FCC) crystals, H atoms preferentially occupy the octahedral interstitial (OI) sites (Fig. 1a). H atoms at the tetrahedral interstitials (TIs, see Fig. 1a) are at relatively higher energy states. The diffusion pathway of an H atom in a perfect FCC crystal starts from one OI, climbs across a saddle point, passes through a neighboring TI, then diffuses across another saddle point, and finally arrives at its neighboring OI [32], as shown in Figs. 1b and c viewed along the <100>  and <110>  directions, respectively. The saddle point positions and energies were calculated with the climbing image nudged elastic band method (CINEB) [33]. The TIs and OIs of a perfect FCC lattice can be obtained from the geometric characteristics of the FCC lattice. After several CINEB calculations, we find that the saddle points can be easily located at the centers of the triangles formed by the three nearest atoms in the FCC lattice. This allows us to identify the locations of saddle points based on geometry rather than performing DFT calculations. The OIs, TIs and saddle points are the critical sites that determine the diffusion path and barriers of a H atom in an FCC crystal. The H solution energies at the critical sites in FCC crystals are calculated using(1)EH-solu=EH+bulk-Ebulk-EH,where EH+bulk is the total energy with zero-point energy (ZPE) correction of the relaxed lattice when the H atom is embedded in the interstitial or saddle point, Ebulk is the energy of the relaxed bulk lattice, EH is the energy of an H atom in a vacuum.',\n",
       " 'The DFT calculations were performed using the Vienna ab initio Simulation Package (VASP) [34,35]. Perdew, Burke, and Ernzerhof (PBE) [36] functional of generalized gradient approximation with projector augmented wave (PAW) [37] was adopted to describe the electronic structures of HEAs. The plane-wave basis kinetic energy cut-off was set to 400 eV. All calculations were carried out with spin-polarization switched on. During the geometrical optimizations, all atoms and the simulation cells were allowed to relax, so that the lattice distortion was taken into consideration when calculating the H solution energies. The total energy was converged to less than 10-6 eV for the electronic structure optimization. The convergence criterion for geometric optimization for calculating H solution energy was set to 0.1 eV, and the criterion for optimizing the atomic structure of the lattice was set to 0.001 eV. The atomic structure of the lattice was relaxed firstly, and then the H atoms were placed at the TIs, and OIs in the lattice. As the original structure was close to the final structure, the optimization usually finishes within 4 steps.',\n",
       " 'As one of the limitations of DFT calculations is that the simulation system is finite, it is difficult to directly simulate a real HEA system by DFT. In a real HEA lattice, even if the overall chemical composition is equimolar, the local structure might have elemental segregation that makes the composition deviate from equimolar [38-40]. Therefore, it is inadequate to simulate only five-component equimolar FeCoNiCrMn HEAs within DFT calculations. Hence, we build atomic structures with the number of components ranging from one to five, covering different combinations of the five alloying elements, as shown in Table 1. The H solution energies at all the critical sites in these structures are then calculated by DFT.',\n",
       " 'The kMC simulations are used for calculating H diffusion coefficients. Here we only consider the low H-concentration scenario. One H atom was firstly placed in a randomly selected OI site. Due to the complicated local chemical environment of HEA, each OI has 8 different neighboring TIs, so there are 8 different barriers for hopping from OI to TI. The hopping rate to the ith neighboring TI is calculated by(2)ki=v0exp(-DEikBT)',\n",
       " 'For the H atom at this OI, the total hopping rate is(3)ktot=iki',\n",
       " 'The probability of this H hopping to the ith TI is ki/ktot. The selection of the TI for hopping is then based on the probability of each hopping event. The hopping from TI to OI is determined by the same method.',\n",
       " 'The time interval for each hopping event is calculated by,(4)Dt=-1ktotln(r2)where r2 is a random number between 0 and 1. The hopping continues until the preset number of steps has been reached. The H diffusion coefficient is then calculated by(5)D=16tMSDwhere MSD is the mean squared displacement of the H atom, t is the total time of the kMC simulation.',\n",
       " 'The attempt frequency v0 used here is 10-14 m2 s-1, which is calibrated to match the H diffusion coefficient in coarse-grained Ni [41]. The python code for the kMC simulation is presented in the Supplementary Materials.',\n",
       " 'The WOA method, which is a meta-heuristic optimization algorithm [31], was applied to explore the HEA structure with low H diffusion coefficients. WOA mimics the hunting strategy of humpback whales, which starts from encircling the prey with multiple whales, followed by the bubble-net attacking phase, and then the prey searching phase. WOA is an efficient algorithm for structural optimization and displays an excellent balance between exploration and exploitation, enabling searching across a broad space for the optimal solution. However, the WOA method needs modification to search the structural and compositional space of the HEA structure. To be consistent with the structures for the DFT calculation of the H solution energies in quinary HEA, we use the 2 x 2 x 5 FCC supercell with a total of 80 atoms as the optimization object. To search the structural and compositional space simultaneously, each atom of the supercell is allowed to choose from the five elements, Fe, Co, Ni, Cr, and Mn. Hence, the atomic structure of the HEA supercell has 580 permutations. By using integers ranging from 1 to 5 to represent the element type and an 80-component vector to represent the permutation of the atoms, we can then iteratively optimize the atomic structure of the HEA supercell to gradually lower the H diffusion coefficient using WOA. We use a vector, X, to represent the atomic structures of HEA. X has two key characteristics: all the elements are integers, and the elemental index should be in the range of 1-5. In addition, we expect the optimized structure to contain all the five elements of HEA, so the structures with less than five elements are excluded. During the optimization, the components of X can easily exceed the range of 1-5. The X will be initiated with random integers in the range of 1-5 if any components of X are lower than 1 or higher than 5. We used 5 whales for hunting within one WOA iteration and performed 300 iterations. The python codes for WOA are presented in the Supplementary Materials.',\n",
       " 'The H solution energy distributions in pure Ni and HEA structures are plotted in Fig. 2a and Fig. 2b, respectively. It is clear that EH-solu in HEAs have wider distributions than that in Ni, and the EH-solu in HEAs are highly inhomogeneous. The H diffusion barriers in certain areas are significantly higher than others, implying the H diffusion pathway may be more rugged and the H atoms are highly dragged in HEAs. These results are consistent with the findings of Ren et al. [42] and Zhou and Curtin [25] that the lattices of HEAs can effectively trap H atoms. However, how the chemical composition of the HEA and the local chemical environment affect the H diffusion behavior, and to what extent the H diffusion coefficient can be reduced by the inhomogeneous distribution of EH-solu in HEA, remain to be resolved.',\n",
       " 'The overall flow-chart for designing FeCoNiCrMn HEAs with low H diffusion coefficients is presented in Fig. 3. After obtaining the H solution energy through DFT calculations, we adopt the Smooth Overlap of Atomic Positions (SOAP) descriptor [43-46] to represent the chemical environment of a given H atom embedded in a metal lattice and then explore an ML model to correlate its SOAP descriptor to its solution energy. Using the ML model, H solution energies in new HEA structures that are not in the dataset can be evaluated. The prediction of H solution energies in new HEA structures is important because we need to find the optimal HEA structures from a broad compositional and structural space. The H diffusion coefficient of the new structure can be consequently calculated by kMC simulations. It is WOA that allows us to search the compositional and structural space of HEAs for structures with low diffusion coefficients. These structures generated by WOA serve as input to the ML model mentioned earlier to predict the H solution energy distribution. The H diffusion coefficient is then calculated from the H solution energy distribution. Using the large dataset containing HEA structures and H diffusion coefficients, the relationship between the H diffusion coefficient with the chemical composition of the HEA can then be accurately described by a 2-degree polynomial model. The details of each part in Fig. 3 are elaborated hereafter.',\n",
       " \"In total, we built 35 atomic structures (Table 1) for DFT calculations and calculated the H solution energies at the critical sites in the structures. The corresponding atomic structure files can be found in the Supplementary Data. The number of critical sites in each calculated structure ranges from 392 (in binary alloys) to 880 (in quinary alloys). The complete size of the dataset, which contains the atomic positions of critical sites and their corresponding H solution energies in the 35 structures, is 24,566. The atomic positions of the critical sites and the corresponding H solutions of each atomic structure can also be found in the Supplementary Data. The calculated H solution energy distributions in several representative binary, ternary, quaternary, and quinary alloys are shown in Fig. 4. The rest of the H solution energy distributions are shown in Fig. S1-4 in the Supplementary Materials. We see that in certain structures, such as FeMn and FeCoMn, the H solution energy distributions are 'narrower', and the energy distributions at saddle and TI sites overlap less. In structures such as CoCr and FeCoNiCrMn, the H solution energy distributions are 'wider' with partially overlapping distributions at saddle and TI points. In addition, the average solution energies at the critical sites of different structures are quite different. For example, the energies at OI sites of the FeNiCrCo structure are centered around -3.1 eV, whereas the energies at OI sites of the FeCoMn structure are centered around -2.95 eV, indicating that the OIs in FeNiCrCo are deeper H traps than those in FeCoMn. The differences in H solution energy distributions will cause large deviations in the lattice-trapping ability, hence we further investigated the influence of HEA structure and composition on the H diffusion coefficient.\",\n",
       " \"To define features for each H atom embedded in the 35 structures, we adopt SOAP descriptors [43] as they accurately describe the local chemical environment surrounding the target H atom within a certain cutoff. There are three important hyperparameters to be optimized when constructing a SOAP descriptor, namely, the radial cutoff (rcut), the maximum number of radial basis functions (nmax), and angular degree of the spherical harmonics (lmax). To evaluate the influence of these hyperparameters on the model accuracy, we use the mean square error (MSE) as a performance measure and use linear regression as the ML model. The whole data set was split into a training set (85%), validation set (5%), and test set (10%). We used the validation set for selecting hyperparameters of the SOAP descriptors, while the test set was used for evaluating the performances of the ML models. The whole data set can be found in Supplementary Data (see the 'x_arr.npy' and 'y_arr.npy' files for the SOAP descriptors and the H solution energies).\",\n",
       " 'The variation of MSE with increasing rcut, nmax and lmax is depicted in Figs. 5a-c, which indicates that for rcut=7, nmax=4 and lmax=4, the MSE is near-optimal for predicting H solution energies in the validation set. The generated SOAP descriptor is a vector with 1500 components. However, many components of the SOAP descriptor are close to zero, contributing little to the learning target. Therefore, we used principal component analysis (PCA) to reduce the dimension of the features. As shown in Fig. 5d, MSE reaches a steady-state value provided the feature number is no less than 600. Therefore, we use 600 as the feature number of the original SOAP descriptors for further analysis.',\n",
       " 'After constructing the SOAP descriptors for the critical sites and calculating the corresponding H solution energies, we built the ML model to correlate the local chemical environment of an H atom at a critical site with its solution energy. As presented in Fig. 6, an ML model as simple as ridge regression with built-in cross-validation [47] (referred to as RidgeCV hereafter) can give satisfactory results. RidgeCV outperformed random forest but was slightly inferior to the neural network. Based on the performance of the three ML models, the neural network was selected as the ML model for further prediction of the H solution energy distribution based on the atomic structure of a given HEA.',\n",
       " 'With the trained ML model, we can now predict the complete H solution energies at the critical sites of the HEA atomic structures generated during WOA. The H diffusion coefficient of the structure is calculated through kMC. The H diffusion coefficients at 300 K of the 35 structures are listed in Table S1 in Supplementary Material. At this point, we have established the correlation between the atomic structure of the alloy and its H diffusion coefficient.',\n",
       " 'The WOA optimizations are then performed to explore HEA structures with low H diffusion coefficients. Despite the broad search space of the WOA optimization, the H diffusion coefficient can be effectively reduced by 2 orders of magnitude after merely 300 WOA steps with five whales for hunting, wherein the optimized structures are non-equimolar. Because the local chemical environments and the corresponding H solution energies in the training set are all calculated from either pure-metal structures or equimolar-alloy structures, the ML model displays relatively low accuracy in the prediction of H diffusion coefficients of non-equimolar HEA. To address this issue, we performed additional DFT calculations on the optimized non-equimolar structures to obtain H solution energies at the critical sites, and then iteratively added these DFT calculation results along with their corresponding SOAP descriptors to the training set to enhance the accuracy of the ML model predictions (see Fig. 7a). The iteration stops when the convergence criterion between the predicted and DFT calculated H diffusion coefficients is reached.',\n",
       " 'The iteration process in Fig. 7a was performed five times to guarantee the accuracy of the ML model. Fig. 7b shows the evolution of the logarithm of the diffusion coefficient during the iteration process. After five iteration loops, the predicted and the DFT calculated H diffusion coefficients reached the convergence criterion. Five optimized structures generated in the iteration process are labeled non-equi-HEA-1 to non-equi-HEA-5. (See Fig. S5 in Supplementary Materials for the atomic structures.) The H diffusion coefficient of the non-equimolar HEAs that were evaluated by kMC using the DFT calculated H solution energies are listed in Table S1 in Supplementary Materials.',\n",
       " 'The optimized non-equimolar HEA structures have H diffusion coefficients in the order of 10-16, which is two orders of magnitude smaller than those of the equimolar HEAs. To evaluate the ability of the non-equimolar HEA structures to trap H atoms, we calculated the activation energy of H diffusion in a typical equimolar HEA and the optimized non-equimolar HEA. The Arrhenius equation of the diffusion coefficient as a function of temperature is given by Eq. (2).(6)D(T)=D0exp(QRT)',\n",
       " 'A linear fitting of the logarithm of the diffusion coefficient as a function of 1/T can be described as in Eq. (3),(7)ln[D(T)]=lnD0+QR1Tfrom which the activation energy of H diffusion in the structures can be obtained. Fig. 7c shows the Arrhenius plots of the diffusion coefficient of an equimolar HEA and an optimized non-equimolar HEA at 300 K. The activation energy of H diffusion in the optimized non-equimolar HEA is 0.191 eV higher than that in the equimolar HEA. The increase of H diffusion activation energy by structural optimization indicates that the optimized non-equimolar HEA has higher trapping ability and may serve as reversible H trapping sites with comparable trapping energies as typical reversible H traps, such as dislocations (0.11 eV for screw dislocation and 0.18 for edge dislocation in aluminum, as calculated by DFT [48]) and low-angle grain boundaries which are often considered to be composed of multiple edge dislocations [49].',\n",
       " 'With the expanded training set after the iterative process, the ML model can accurately predict the H solution energies in non-equimolar HEAs. We then performed another four WOAs to obtain four optimized HEA structures with the improved ML model. The evolution of the diffusion coefficient during WOA and the chemical compositions of the optimized structures after WOA are shown in Fig. 8a and 8b, respectively. Fig. 8a shows that the H diffusion coefficient can be rapidly reduced, indicating that WOA is efficient in exploring the broad and high-dimensional searching space of the current optimization problem. We can see that owing to the broad composition and structure space of the HEA atomic structure, the WOA exploration arrives at different local optimal points each time, and it is not easy to locate the global minimum. However, all the optimized structures have H diffusion coefficients considerably lower than those of the unoptimized ones. The optimized structures are labeled WOA-1 to WOA-4 and their atomic structures are plotted in Fig. S5 in the Supplementary Materials. The charge density distributions of the four optimized structures are representatively shown in Fig. S6 in the Supplementary Materials. It can be seen that the charge density distribution is highly inhomogeneous, which would result in the highly varied H solution energies, and then the formation of various H traps in the HEA lattices. All of the optimized structures are non-equimolar, and typically have high Co content and low Ni content. This suggests that there might be certain relationships between the chemical composition and the H diffusion coefficient of the structure, which make it possible to achieve a low H diffusion coefficient by tuning the chemical composition.',\n",
       " 'We have shown that the optimized structures generated by WOA can act as reversible H trapping sites, with trapping ability comparable to that of dislocation cores and low-angle grain boundaries. As the optimization target, the H diffusion coefficient has multiple local minima, thus this kind of lattice trap can be abundant in HEAs. Unlike H traps such as grain boundaries and dislocations, lattice traps result from the heterogeneity of the local chemical environment of the HEA lattice, which will not cause severe segregation of H atoms and can thus avoid the risk of H-induced interface decohesion, stress concentration, and crack initiation. This quality of lattice traps might explain the high HE resistance observed in many HEAs [17,20,22-24,50,51].',\n",
       " 'The WOA not only finds the HEA structures with low H diffusion coefficients but also generates massive data containing the HEA chemical compositions and their corresponding H diffusion coefficients during the optimization process, which makes it possible to further uncover the characteristics of HEA structures with low H diffusion coefficients, and the relationship between the chemical composition of the HEA structure and its H diffusion coefficient.',\n",
       " 'Fig. 9a and b present the chemical composition distributions of the HEAs, which were generated from WOA, with H diffusion coefficients lower than 10-16 m2 s-1 (Fig. 9a), or higher than 10-14 m2 s-1 (Fig. 9b). The HEAs with low H diffusion coefficients have high Co and Mn content, while those with high H diffusion coefficients have high Fe and Ni content. The influence of Cr is not as obvious, but still has a positive effect on reducing the H diffusion coefficient.',\n",
       " 'We further carried out linear regression with the composition of Fe, Co, Ni, Cr, Mn as features and the logarithmic H diffusion coefficient as the learning target. The dataset was split into the training set and the test set with a split ratio of 4:1. The performance of linear regression is shown in Fig. 10a and b. Linear regression gives an R2 value of 0.75 on the test set, indicating that although the variance is large, there does exist a certain relationship between the H diffusion coefficient and the chemical composition. The large variance may come from the nonlinear dependency of the H diffusion coefficient on the chemical composition. It also indicates that as the H diffusion coefficient decreases, the linear prediction becomes less accurate, as shown by the lower-left region of Fig. 10a and b, suggesting that the lack of model complexity manifests itself when predicting low H diffusion coefficients. The linear model gives an explicit expression of the logarithm of H diffusion coefficient as a function of chemical components, i.e.,(8)log(D)=0.096Fe-0.47Co+3.05Ni-1.01Cr-1.66Mn-15.05where Fe, Co, Ni, Cr, Mn represent the atomic ratio of the elements. Eq. (8) suggests that the increased Co, Cr, and Mn ratio can reduce the H diffusion coefficient whereas an increase of Fe and Ni might result in the opposite effect. Note that the linear model fails to make accurate predictions for structures with H diffusion coefficients lower than 10-16 m2 s-1.',\n",
       " 'To predict the H diffusion coefficients with higher accuracy, we adopted 2-degree polynomial regression and obtained a higher R2 value of 0.86 on the test set (Fig. 10d). The coefficients and intercept of the 2-degree polynomial regression are listed in Table 2. The polynomial model can predict H diffusion coefficients lower than 10-16 m2 s-1 with improved accuracy, which could be a better choice when quantitative prediction is necessary. Although the linear model is less accurate, it gives a more intuitive understanding of the influence of each element on the H diffusion coefficient, which can serve as a general estimation for designing HEAs with low diffusion coefficients.',\n",
       " 'In summary, we have proposed a data-driven and ML-assisted prediction and optimization strategy to assist the design of FeCoNiCrMn HEAs with low H diffusion coefficients. The neural network was used to bridge the relationship between the SOAP descriptors and the H solution energies. With the help of kMC, the H diffusion coefficients based on the H solution energies can be accurately evaluated, and the relationship between the atomic structure of HEA to its H diffusion coefficient can be built. From the data collected from the WOA processes, we found that HEAs with low H diffusion coefficients typically have high Co and Mn content, while those with high H diffusion coefficients have high Fe and Ni content. We then developed linear and polynomial models between the chemical composition and the H diffusion coefficient to guide the design of HEAs with low H diffusion coefficient and high HE resistance.',\n",
       " 'The authors declare that they have no known competing financial interests or personal relationships that could have appeared to influence the work reported in this paper.',\n",
       " 'This research was supported by the National Key Research and Development Program of China (2018YFE0124900), the National Natural Science Foundation of China (51778370, 51901013, 52071023, 51921001, 51871016, 51861165204, and 52061135207) and the Fundamental Research Funds for the Central Universities (University of Science and Technology Beijing) (No. 06500135).',\n",
       " 'Supplementary material associated with this article can be found, in the online version, at doi:10.1016/j.actamat.2021.117535.',\n",
       " 'Image, application 1Image, application 2']"
      ]
     },
     "execution_count": 4,
     "metadata": {},
     "output_type": "execute_result"
    }
   ],
   "source": [
    "get_results_paragraphs_from_paper('S1359645421009137')[0]"
   ]
  },
  {
   "cell_type": "code",
   "execution_count": null,
   "metadata": {},
   "outputs": [],
   "source": []
  }
 ],
 "metadata": {
  "kernelspec": {
   "display_name": "py38",
   "language": "python",
   "name": "python3"
  },
  "language_info": {
   "codemirror_mode": {
    "name": "ipython",
    "version": 3
   },
   "file_extension": ".py",
   "mimetype": "text/x-python",
   "name": "python",
   "nbconvert_exporter": "python",
   "pygments_lexer": "ipython3",
   "version": "3.8.13"
  },
  "orig_nbformat": 4,
  "vscode": {
   "interpreter": {
    "hash": "178729c8f5e9eedf2bae7ea816478a89001acb4e6c66f13ce64ddbee9dd2f878"
   }
  }
 },
 "nbformat": 4,
 "nbformat_minor": 2
}
