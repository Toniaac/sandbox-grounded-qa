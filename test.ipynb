{
 "cells": [
  {
   "cell_type": "code",
   "execution_count": 6,
   "metadata": {},
   "outputs": [],
   "source": [
    "serp_api = '2db975c7f72d37a545504fb166033d19ccbadcf5eeaf17b56882f9a81d0dafe7'\n",
    "cohere_api = '6rIWhaa4vGVQKRnSJ9ClSKkgsxQp8EabiXBLH2zl'"
   ]
  },
  {
   "cell_type": "code",
   "execution_count": 7,
   "metadata": {},
   "outputs": [],
   "source": [
    "from qa.bot import GroundedQaBot\n",
    "bot = GroundedQaBot(cohere_api, serp_api)\n",
    "\n",
    "if __name__ == \"__main__\":\n",
    "    while True:\n",
    "        question = input(\"question: \")\n",
    "        reply, source_urls, source_texts = bot.answer(question, verbosity=args.verbosity, n_paragraphs=2)\n",
    "        sources_str = \"\\n\".join(list(set(source_urls)))\n",
    "        reply_incl_sources = f\"{reply}\\nSource:\\n{sources_str}\"\n",
    "        print(\"answer: \" + reply_incl_sources)"
   ]
  }
 ],
 "metadata": {
  "kernelspec": {
   "display_name": "py38",
   "language": "python",
   "name": "python3"
  },
  "language_info": {
   "codemirror_mode": {
    "name": "ipython",
    "version": 3
   },
   "file_extension": ".py",
   "mimetype": "text/x-python",
   "name": "python",
   "nbconvert_exporter": "python",
   "pygments_lexer": "ipython3",
   "version": "3.8.13"
  },
  "orig_nbformat": 4,
  "vscode": {
   "interpreter": {
    "hash": "178729c8f5e9eedf2bae7ea816478a89001acb4e6c66f13ce64ddbee9dd2f878"
   }
  }
 },
 "nbformat": 4,
 "nbformat_minor": 2
}
